{
  "nbformat": 4,
  "nbformat_minor": 0,
  "metadata": {
    "colab": {
      "provenance": [],
      "mount_file_id": "1h5GO0Pw-yR1HEAmURswLwWJA_N0Ian0H",
      "authorship_tag": "ABX9TyNLtTmT82kJicEJ+WIezKUu",
      "include_colab_link": true
    },
    "kernelspec": {
      "name": "python3",
      "display_name": "Python 3"
    },
    "language_info": {
      "name": "python"
    }
  },
  "cells": [
    {
      "cell_type": "markdown",
      "metadata": {
        "id": "view-in-github",
        "colab_type": "text"
      },
      "source": [
        "<a href=\"https://colab.research.google.com/github/laffertybrian/The-Update-Series/blob/main/Food_Sales_Prediction_Update_1.ipynb\" target=\"_parent\"><img src=\"https://colab.research.google.com/assets/colab-badge.svg\" alt=\"Open In Colab\"/></a>"
      ]
    },
    {
      "cell_type": "markdown",
      "source": [
        "##Food Sales Prediction Project Update #1\n",
        "This update will add a Class to quickly assess best models, and was inspired by this post: https://towardsdatascience.com/benchmarking-machine-learning-models-with-cross-validation-and-matplotlib-in-python-4957a41149e"
      ],
      "metadata": {
        "id": "Du8TfPg33NTm"
      }
    },
    {
      "cell_type": "markdown",
      "source": [
        "###Loading libraries and dataframe"
      ],
      "metadata": {
        "id": "xeTXUIPx2hZj"
      }
    },
    {
      "cell_type": "code",
      "source": [
        "# Import Libraries\n",
        "import pandas as pd\n",
        "import numpy as np\n",
        "import matplotlib.pyplot as plt\n",
        "from sklearn.preprocessing import StandardScaler, OneHotEncoder, OrdinalEncoder\n",
        "from sklearn.impute import SimpleImputer\n",
        "from sklearn.compose import make_column_transformer, make_column_selector\n",
        "from sklearn.pipeline import make_pipeline\n",
        "from sklearn.model_selection import train_test_split\n",
        "from sklearn import set_config\n",
        "set_config(display='diagram')"
      ],
      "metadata": {
        "id": "C2fNwp95P2vK"
      },
      "execution_count": 1,
      "outputs": []
    },
    {
      "cell_type": "code",
      "source": [
        "# Load dataset\n",
        "filename = '/content/drive/MyDrive/01 Python for Data Science/sales_predictions.csv'\n",
        "df = pd.read_csv(filename)\n",
        "df.head()"
      ],
      "metadata": {
        "colab": {
          "base_uri": "https://localhost:8080/",
          "height": 0
        },
        "id": "DPfB1TkWRO10",
        "outputId": "7aa1407f-40b0-4e24-d78f-2e47b33f9e2d"
      },
      "execution_count": 2,
      "outputs": [
        {
          "output_type": "execute_result",
          "data": {
            "text/plain": [
              "  Item_Identifier  Item_Weight Item_Fat_Content  Item_Visibility  \\\n",
              "0           FDA15         9.30          Low Fat         0.016047   \n",
              "1           DRC01         5.92          Regular         0.019278   \n",
              "2           FDN15        17.50          Low Fat         0.016760   \n",
              "3           FDX07        19.20          Regular         0.000000   \n",
              "4           NCD19         8.93          Low Fat         0.000000   \n",
              "\n",
              "               Item_Type  Item_MRP Outlet_Identifier  \\\n",
              "0                  Dairy  249.8092            OUT049   \n",
              "1            Soft Drinks   48.2692            OUT018   \n",
              "2                   Meat  141.6180            OUT049   \n",
              "3  Fruits and Vegetables  182.0950            OUT010   \n",
              "4              Household   53.8614            OUT013   \n",
              "\n",
              "   Outlet_Establishment_Year Outlet_Size Outlet_Location_Type  \\\n",
              "0                       1999      Medium               Tier 1   \n",
              "1                       2009      Medium               Tier 3   \n",
              "2                       1999      Medium               Tier 1   \n",
              "3                       1998         NaN               Tier 3   \n",
              "4                       1987        High               Tier 3   \n",
              "\n",
              "         Outlet_Type  Item_Outlet_Sales  \n",
              "0  Supermarket Type1          3735.1380  \n",
              "1  Supermarket Type2           443.4228  \n",
              "2  Supermarket Type1          2097.2700  \n",
              "3      Grocery Store           732.3800  \n",
              "4  Supermarket Type1           994.7052  "
            ],
            "text/html": [
              "\n",
              "  <div id=\"df-93edc590-7c99-4918-b557-4bcba83aa87a\">\n",
              "    <div class=\"colab-df-container\">\n",
              "      <div>\n",
              "<style scoped>\n",
              "    .dataframe tbody tr th:only-of-type {\n",
              "        vertical-align: middle;\n",
              "    }\n",
              "\n",
              "    .dataframe tbody tr th {\n",
              "        vertical-align: top;\n",
              "    }\n",
              "\n",
              "    .dataframe thead th {\n",
              "        text-align: right;\n",
              "    }\n",
              "</style>\n",
              "<table border=\"1\" class=\"dataframe\">\n",
              "  <thead>\n",
              "    <tr style=\"text-align: right;\">\n",
              "      <th></th>\n",
              "      <th>Item_Identifier</th>\n",
              "      <th>Item_Weight</th>\n",
              "      <th>Item_Fat_Content</th>\n",
              "      <th>Item_Visibility</th>\n",
              "      <th>Item_Type</th>\n",
              "      <th>Item_MRP</th>\n",
              "      <th>Outlet_Identifier</th>\n",
              "      <th>Outlet_Establishment_Year</th>\n",
              "      <th>Outlet_Size</th>\n",
              "      <th>Outlet_Location_Type</th>\n",
              "      <th>Outlet_Type</th>\n",
              "      <th>Item_Outlet_Sales</th>\n",
              "    </tr>\n",
              "  </thead>\n",
              "  <tbody>\n",
              "    <tr>\n",
              "      <th>0</th>\n",
              "      <td>FDA15</td>\n",
              "      <td>9.30</td>\n",
              "      <td>Low Fat</td>\n",
              "      <td>0.016047</td>\n",
              "      <td>Dairy</td>\n",
              "      <td>249.8092</td>\n",
              "      <td>OUT049</td>\n",
              "      <td>1999</td>\n",
              "      <td>Medium</td>\n",
              "      <td>Tier 1</td>\n",
              "      <td>Supermarket Type1</td>\n",
              "      <td>3735.1380</td>\n",
              "    </tr>\n",
              "    <tr>\n",
              "      <th>1</th>\n",
              "      <td>DRC01</td>\n",
              "      <td>5.92</td>\n",
              "      <td>Regular</td>\n",
              "      <td>0.019278</td>\n",
              "      <td>Soft Drinks</td>\n",
              "      <td>48.2692</td>\n",
              "      <td>OUT018</td>\n",
              "      <td>2009</td>\n",
              "      <td>Medium</td>\n",
              "      <td>Tier 3</td>\n",
              "      <td>Supermarket Type2</td>\n",
              "      <td>443.4228</td>\n",
              "    </tr>\n",
              "    <tr>\n",
              "      <th>2</th>\n",
              "      <td>FDN15</td>\n",
              "      <td>17.50</td>\n",
              "      <td>Low Fat</td>\n",
              "      <td>0.016760</td>\n",
              "      <td>Meat</td>\n",
              "      <td>141.6180</td>\n",
              "      <td>OUT049</td>\n",
              "      <td>1999</td>\n",
              "      <td>Medium</td>\n",
              "      <td>Tier 1</td>\n",
              "      <td>Supermarket Type1</td>\n",
              "      <td>2097.2700</td>\n",
              "    </tr>\n",
              "    <tr>\n",
              "      <th>3</th>\n",
              "      <td>FDX07</td>\n",
              "      <td>19.20</td>\n",
              "      <td>Regular</td>\n",
              "      <td>0.000000</td>\n",
              "      <td>Fruits and Vegetables</td>\n",
              "      <td>182.0950</td>\n",
              "      <td>OUT010</td>\n",
              "      <td>1998</td>\n",
              "      <td>NaN</td>\n",
              "      <td>Tier 3</td>\n",
              "      <td>Grocery Store</td>\n",
              "      <td>732.3800</td>\n",
              "    </tr>\n",
              "    <tr>\n",
              "      <th>4</th>\n",
              "      <td>NCD19</td>\n",
              "      <td>8.93</td>\n",
              "      <td>Low Fat</td>\n",
              "      <td>0.000000</td>\n",
              "      <td>Household</td>\n",
              "      <td>53.8614</td>\n",
              "      <td>OUT013</td>\n",
              "      <td>1987</td>\n",
              "      <td>High</td>\n",
              "      <td>Tier 3</td>\n",
              "      <td>Supermarket Type1</td>\n",
              "      <td>994.7052</td>\n",
              "    </tr>\n",
              "  </tbody>\n",
              "</table>\n",
              "</div>\n",
              "      <button class=\"colab-df-convert\" onclick=\"convertToInteractive('df-93edc590-7c99-4918-b557-4bcba83aa87a')\"\n",
              "              title=\"Convert this dataframe to an interactive table.\"\n",
              "              style=\"display:none;\">\n",
              "        \n",
              "  <svg xmlns=\"http://www.w3.org/2000/svg\" height=\"24px\"viewBox=\"0 0 24 24\"\n",
              "       width=\"24px\">\n",
              "    <path d=\"M0 0h24v24H0V0z\" fill=\"none\"/>\n",
              "    <path d=\"M18.56 5.44l.94 2.06.94-2.06 2.06-.94-2.06-.94-.94-2.06-.94 2.06-2.06.94zm-11 1L8.5 8.5l.94-2.06 2.06-.94-2.06-.94L8.5 2.5l-.94 2.06-2.06.94zm10 10l.94 2.06.94-2.06 2.06-.94-2.06-.94-.94-2.06-.94 2.06-2.06.94z\"/><path d=\"M17.41 7.96l-1.37-1.37c-.4-.4-.92-.59-1.43-.59-.52 0-1.04.2-1.43.59L10.3 9.45l-7.72 7.72c-.78.78-.78 2.05 0 2.83L4 21.41c.39.39.9.59 1.41.59.51 0 1.02-.2 1.41-.59l7.78-7.78 2.81-2.81c.8-.78.8-2.07 0-2.86zM5.41 20L4 18.59l7.72-7.72 1.47 1.35L5.41 20z\"/>\n",
              "  </svg>\n",
              "      </button>\n",
              "      \n",
              "  <style>\n",
              "    .colab-df-container {\n",
              "      display:flex;\n",
              "      flex-wrap:wrap;\n",
              "      gap: 12px;\n",
              "    }\n",
              "\n",
              "    .colab-df-convert {\n",
              "      background-color: #E8F0FE;\n",
              "      border: none;\n",
              "      border-radius: 50%;\n",
              "      cursor: pointer;\n",
              "      display: none;\n",
              "      fill: #1967D2;\n",
              "      height: 32px;\n",
              "      padding: 0 0 0 0;\n",
              "      width: 32px;\n",
              "    }\n",
              "\n",
              "    .colab-df-convert:hover {\n",
              "      background-color: #E2EBFA;\n",
              "      box-shadow: 0px 1px 2px rgba(60, 64, 67, 0.3), 0px 1px 3px 1px rgba(60, 64, 67, 0.15);\n",
              "      fill: #174EA6;\n",
              "    }\n",
              "\n",
              "    [theme=dark] .colab-df-convert {\n",
              "      background-color: #3B4455;\n",
              "      fill: #D2E3FC;\n",
              "    }\n",
              "\n",
              "    [theme=dark] .colab-df-convert:hover {\n",
              "      background-color: #434B5C;\n",
              "      box-shadow: 0px 1px 3px 1px rgba(0, 0, 0, 0.15);\n",
              "      filter: drop-shadow(0px 1px 2px rgba(0, 0, 0, 0.3));\n",
              "      fill: #FFFFFF;\n",
              "    }\n",
              "  </style>\n",
              "\n",
              "      <script>\n",
              "        const buttonEl =\n",
              "          document.querySelector('#df-93edc590-7c99-4918-b557-4bcba83aa87a button.colab-df-convert');\n",
              "        buttonEl.style.display =\n",
              "          google.colab.kernel.accessAllowed ? 'block' : 'none';\n",
              "\n",
              "        async function convertToInteractive(key) {\n",
              "          const element = document.querySelector('#df-93edc590-7c99-4918-b557-4bcba83aa87a');\n",
              "          const dataTable =\n",
              "            await google.colab.kernel.invokeFunction('convertToInteractive',\n",
              "                                                     [key], {});\n",
              "          if (!dataTable) return;\n",
              "\n",
              "          const docLinkHtml = 'Like what you see? Visit the ' +\n",
              "            '<a target=\"_blank\" href=https://colab.research.google.com/notebooks/data_table.ipynb>data table notebook</a>'\n",
              "            + ' to learn more about interactive tables.';\n",
              "          element.innerHTML = '';\n",
              "          dataTable['output_type'] = 'display_data';\n",
              "          await google.colab.output.renderOutput(dataTable, element);\n",
              "          const docLink = document.createElement('div');\n",
              "          docLink.innerHTML = docLinkHtml;\n",
              "          element.appendChild(docLink);\n",
              "        }\n",
              "      </script>\n",
              "    </div>\n",
              "  </div>\n",
              "  "
            ]
          },
          "metadata": {},
          "execution_count": 2
        }
      ]
    },
    {
      "cell_type": "markdown",
      "source": [
        "###Exploring missing data"
      ],
      "metadata": {
        "id": "OcGFK5w2WWRX"
      }
    },
    {
      "cell_type": "code",
      "source": [
        "# ensure that data has missing values\n",
        "df.info()"
      ],
      "metadata": {
        "colab": {
          "base_uri": "https://localhost:8080/"
        },
        "id": "Jkve6JYxSMzr",
        "outputId": "6ee65bbe-fe31-4031-9250-bc998d30afe7"
      },
      "execution_count": 3,
      "outputs": [
        {
          "output_type": "stream",
          "name": "stdout",
          "text": [
            "<class 'pandas.core.frame.DataFrame'>\n",
            "RangeIndex: 8523 entries, 0 to 8522\n",
            "Data columns (total 12 columns):\n",
            " #   Column                     Non-Null Count  Dtype  \n",
            "---  ------                     --------------  -----  \n",
            " 0   Item_Identifier            8523 non-null   object \n",
            " 1   Item_Weight                7060 non-null   float64\n",
            " 2   Item_Fat_Content           8523 non-null   object \n",
            " 3   Item_Visibility            8523 non-null   float64\n",
            " 4   Item_Type                  8523 non-null   object \n",
            " 5   Item_MRP                   8523 non-null   float64\n",
            " 6   Outlet_Identifier          8523 non-null   object \n",
            " 7   Outlet_Establishment_Year  8523 non-null   int64  \n",
            " 8   Outlet_Size                6113 non-null   object \n",
            " 9   Outlet_Location_Type       8523 non-null   object \n",
            " 10  Outlet_Type                8523 non-null   object \n",
            " 11  Item_Outlet_Sales          8523 non-null   float64\n",
            "dtypes: float64(4), int64(1), object(7)\n",
            "memory usage: 799.2+ KB\n"
          ]
        }
      ]
    },
    {
      "cell_type": "code",
      "source": [
        "# looking at missing data by columns\n",
        "df.isna().sum()"
      ],
      "metadata": {
        "colab": {
          "base_uri": "https://localhost:8080/"
        },
        "id": "G8U0rIAuShbX",
        "outputId": "8bcee00f-c32f-47c9-c178-6cdc66e7ee8a"
      },
      "execution_count": 4,
      "outputs": [
        {
          "output_type": "execute_result",
          "data": {
            "text/plain": [
              "Item_Identifier                 0\n",
              "Item_Weight                  1463\n",
              "Item_Fat_Content                0\n",
              "Item_Visibility                 0\n",
              "Item_Type                       0\n",
              "Item_MRP                        0\n",
              "Outlet_Identifier               0\n",
              "Outlet_Establishment_Year       0\n",
              "Outlet_Size                  2410\n",
              "Outlet_Location_Type            0\n",
              "Outlet_Type                     0\n",
              "Item_Outlet_Sales               0\n",
              "dtype: int64"
            ]
          },
          "metadata": {},
          "execution_count": 4
        }
      ]
    },
    {
      "cell_type": "code",
      "source": [
        "# double checking for duplicates\n",
        "df.duplicated().sum()"
      ],
      "metadata": {
        "colab": {
          "base_uri": "https://localhost:8080/"
        },
        "id": "hjtyyEIukv_t",
        "outputId": "b84d342f-b8f8-4182-f148-1881670bd2bc"
      },
      "execution_count": 5,
      "outputs": [
        {
          "output_type": "execute_result",
          "data": {
            "text/plain": [
              "0"
            ]
          },
          "metadata": {},
          "execution_count": 5
        }
      ]
    },
    {
      "cell_type": "code",
      "source": [
        "# viewing the data differently than I did the first time to see if I come to the same conclusion.\n",
        "df.groupby('Outlet_Identifier', dropna=False)['Outlet_Size'].count()"
      ],
      "metadata": {
        "colab": {
          "base_uri": "https://localhost:8080/"
        },
        "id": "AA8r-sbwgQJz",
        "outputId": "43b33b38-e1f2-49f3-b4d1-23ff39783c24"
      },
      "execution_count": 6,
      "outputs": [
        {
          "output_type": "execute_result",
          "data": {
            "text/plain": [
              "Outlet_Identifier\n",
              "OUT010      0\n",
              "OUT013    932\n",
              "OUT017      0\n",
              "OUT018    928\n",
              "OUT019    528\n",
              "OUT027    935\n",
              "OUT035    930\n",
              "OUT045      0\n",
              "OUT046    930\n",
              "OUT049    930\n",
              "Name: Outlet_Size, dtype: int64"
            ]
          },
          "metadata": {},
          "execution_count": 6
        }
      ]
    },
    {
      "cell_type": "code",
      "source": [
        "df.groupby('Outlet_Establishment_Year', dropna=False)['Outlet_Size'].count()"
      ],
      "metadata": {
        "colab": {
          "base_uri": "https://localhost:8080/"
        },
        "id": "If8WIJ-Uj6jC",
        "outputId": "1f5b3e98-2efd-4389-fc88-9dc903ec733f"
      },
      "execution_count": 7,
      "outputs": [
        {
          "output_type": "execute_result",
          "data": {
            "text/plain": [
              "Outlet_Establishment_Year\n",
              "1985    1463\n",
              "1987     932\n",
              "1997     930\n",
              "1998       0\n",
              "1999     930\n",
              "2002       0\n",
              "2004     930\n",
              "2007       0\n",
              "2009     928\n",
              "Name: Outlet_Size, dtype: int64"
            ]
          },
          "metadata": {},
          "execution_count": 7
        }
      ]
    },
    {
      "cell_type": "code",
      "source": [
        "df.groupby(['Outlet_Identifier', 'Outlet_Establishment_Year'], dropna=False)['Outlet_Size'].count()"
      ],
      "metadata": {
        "colab": {
          "base_uri": "https://localhost:8080/"
        },
        "id": "0tnQurAEkNjl",
        "outputId": "8a898351-c111-466a-c799-ce48ba57c1a0"
      },
      "execution_count": 8,
      "outputs": [
        {
          "output_type": "execute_result",
          "data": {
            "text/plain": [
              "Outlet_Identifier  Outlet_Establishment_Year\n",
              "OUT010             1998                           0\n",
              "OUT013             1987                         932\n",
              "OUT017             2007                           0\n",
              "OUT018             2009                         928\n",
              "OUT019             1985                         528\n",
              "OUT027             1985                         935\n",
              "OUT035             2004                         930\n",
              "OUT045             2002                           0\n",
              "OUT046             1997                         930\n",
              "OUT049             1999                         930\n",
              "Name: Outlet_Size, dtype: int64"
            ]
          },
          "metadata": {},
          "execution_count": 8
        }
      ]
    },
    {
      "cell_type": "code",
      "source": [
        "df.groupby(['Outlet_Identifier', 'Outlet_Type', 'Outlet_Location_Type', 'Outlet_Size'], dropna=False)['Outlet_Size'].count()"
      ],
      "metadata": {
        "colab": {
          "base_uri": "https://localhost:8080/"
        },
        "id": "o5Kv2vDAQqhT",
        "outputId": "fbe29cd3-256c-490d-ce0b-7c007c821d6b"
      },
      "execution_count": 9,
      "outputs": [
        {
          "output_type": "execute_result",
          "data": {
            "text/plain": [
              "Outlet_Identifier  Outlet_Type        Outlet_Location_Type  Outlet_Size\n",
              "OUT010             Grocery Store      Tier 3                NaN              0\n",
              "OUT013             Supermarket Type1  Tier 3                High           932\n",
              "OUT017             Supermarket Type1  Tier 2                NaN              0\n",
              "OUT018             Supermarket Type2  Tier 3                Medium         928\n",
              "OUT019             Grocery Store      Tier 1                Small          528\n",
              "OUT027             Supermarket Type3  Tier 3                Medium         935\n",
              "OUT035             Supermarket Type1  Tier 2                Small          930\n",
              "OUT045             Supermarket Type1  Tier 2                NaN              0\n",
              "OUT046             Supermarket Type1  Tier 1                Small          930\n",
              "OUT049             Supermarket Type1  Tier 1                Medium         930\n",
              "Name: Outlet_Size, dtype: int64"
            ]
          },
          "metadata": {},
          "execution_count": 9
        }
      ]
    },
    {
      "cell_type": "code",
      "source": [
        "df.groupby(['Outlet_Type', 'Outlet_Location_Type', 'Outlet_Size'], dropna=False)['Outlet_Size'].count()"
      ],
      "metadata": {
        "colab": {
          "base_uri": "https://localhost:8080/"
        },
        "id": "tyhkAIqAVgn3",
        "outputId": "9ebacbd1-caad-45d6-ea06-40853e734841"
      },
      "execution_count": 10,
      "outputs": [
        {
          "output_type": "execute_result",
          "data": {
            "text/plain": [
              "Outlet_Type        Outlet_Location_Type  Outlet_Size\n",
              "Grocery Store      Tier 1                Small          528\n",
              "                   Tier 3                NaN              0\n",
              "Supermarket Type1  Tier 1                Medium         930\n",
              "                                         Small          930\n",
              "                   Tier 2                Small          930\n",
              "                                         NaN              0\n",
              "                   Tier 3                High           932\n",
              "Supermarket Type2  Tier 3                Medium         928\n",
              "Supermarket Type3  Tier 3                Medium         935\n",
              "Name: Outlet_Size, dtype: int64"
            ]
          },
          "metadata": {},
          "execution_count": 10
        }
      ]
    },
    {
      "cell_type": "markdown",
      "source": [
        ">In the end I am going to choose to replace the missing data the same way I did before. \n",
        "\n",
        "1.   Grocery Stores only have Outlet_Size of Small.\n",
        "2.   Supermarket Type1, Tier 2 stores have an Outlet_Size of Small.\n",
        "\n",
        "> I will imputer the missing data in the Outlet_Size column with the value of Small.\n",
        "\n",
        ">The missing Weight values will be imputed with the mean value.\n",
        "\n",
        "I will impute the data with SimpleImputer below.\n",
        "\n"
      ],
      "metadata": {
        "id": "qPTRfXHA5zbF"
      }
    },
    {
      "cell_type": "markdown",
      "source": [
        "###Spliting the data into X and y. Preforming train/test split."
      ],
      "metadata": {
        "id": "fnpuFEsGWg_h"
      }
    },
    {
      "cell_type": "code",
      "source": [
        "# creating X and y split\n",
        "# Target for this data is the 'Item_Outlet_Sales' column\n",
        "y = df['Item_Outlet_Sales']\n",
        "\n",
        "# Separating these feature columns to make predictions about the target\n",
        "X = df.drop(columns = ['Item_Identifier', 'Item_Outlet_Sales'])\n",
        "\n",
        "# train test split\n",
        "X_train, X_test, y_train, y_test = train_test_split(X, y, random_state=42)"
      ],
      "metadata": {
        "id": "iNSO2L2AWuto"
      },
      "execution_count": 11,
      "outputs": []
    },
    {
      "cell_type": "markdown",
      "source": [
        "###Preparing the Data"
      ],
      "metadata": {
        "id": "JacTu8dbY7oA"
      }
    },
    {
      "cell_type": "markdown",
      "source": [
        "####Addressing Inconsistent Data"
      ],
      "metadata": {
        "id": "dMJF9xDpxvFc"
      }
    },
    {
      "cell_type": "code",
      "source": [
        "# The Fat_Content column has inconsistent data labels\n",
        "# We will correct this with a dictionary\n",
        "fat_content_labels = {'LF': 'Low Fat', 'low fat': 'Low Fat', 'reg': 'Regular'}\n",
        "\n",
        "# correcting X_train\n",
        "X_train['Item_Fat_Content'].replace(fat_content_labels, inplace=True)\n",
        "\n",
        "# correcting X_test\n",
        "X_test['Item_Fat_Content'].replace(fat_content_labels, inplace=True)"
      ],
      "metadata": {
        "id": "k0ftTbnKx6hb"
      },
      "execution_count": 12,
      "outputs": []
    },
    {
      "cell_type": "markdown",
      "source": [
        "####Instantiate column selectors"
      ],
      "metadata": {
        "id": "r5ISwKRcYbLx"
      }
    },
    {
      "cell_type": "code",
      "source": [
        "# creatintg column selectors\n",
        "# for int and float types\n",
        "number_selector = make_column_selector(dtype_include='number')\n",
        "# for object types I will select which columns will be ordinal or nominal\n",
        "nominal_columns = ['Item_Fat_Content', 'Item_Type', 'Outlet_Identifier', 'Outlet_Type']\n",
        "ordinal_columns = ['Outlet_Size', 'Outlet_Location_Type']"
      ],
      "metadata": {
        "id": "C2NZL3rKYfeC"
      },
      "execution_count": 13,
      "outputs": []
    },
    {
      "cell_type": "markdown",
      "source": [
        "####Imputing data"
      ],
      "metadata": {
        "id": "4PDhFrCCY8BK"
      }
    },
    {
      "cell_type": "code",
      "source": [
        "# Instantiate SimpleImputer for the numeric data in column 'Weight'\n",
        "mean_imputer = SimpleImputer(strategy='mean')"
      ],
      "metadata": {
        "id": "x2zk7tdSZBcY"
      },
      "execution_count": 14,
      "outputs": []
    },
    {
      "cell_type": "code",
      "source": [
        "# impute missing category data by instantiating anohter SimpleImputer\n",
        "constant_value_imputer = SimpleImputer(strategy='constant', fill_value='Small')"
      ],
      "metadata": {
        "id": "BWwxQokLZXL7"
      },
      "execution_count": 15,
      "outputs": []
    },
    {
      "cell_type": "markdown",
      "source": [
        "####Creating lists for ordinal encoding"
      ],
      "metadata": {
        "id": "Xxil6EG3X6lg"
      }
    },
    {
      "cell_type": "code",
      "source": [
        "# creating ordered lists for both Outlet_Size and Outlet_Location_Type\n",
        "# Outlet_Size from Small, Medium, High\n",
        "outlet_size_labels = ['Small', 'Medium', 'High']\n",
        "\n",
        "# outlet_location_type from tier1, tier2, tier3\n",
        "location_type_labels = ['Tier 1', 'Tier 2', 'Tier 3']\n",
        "\n",
        "# creating another list to order the labels into the encoder\n",
        "ordered_labels = [outlet_size_labels, location_type_labels]"
      ],
      "metadata": {
        "id": "UxweNImLX_lW"
      },
      "execution_count": 16,
      "outputs": []
    },
    {
      "cell_type": "markdown",
      "source": [
        "####Instantiate transformers"
      ],
      "metadata": {
        "id": "0psj3RRmZeTy"
      }
    },
    {
      "cell_type": "code",
      "source": [
        "# Creating a scaler for numeric data columns\n",
        "scaler = StandardScaler()\n",
        "\n",
        "# Creating one hot encoder for categorical columns\n",
        "one_hot_encoder = OneHotEncoder(handle_unknown='ignore', sparse=False)\n",
        "\n",
        "# creating an ordinal encoder with ordered labels \n",
        "ordinal_encoder = OrdinalEncoder(categories=ordered_labels)"
      ],
      "metadata": {
        "id": "MmqAjav6ZpQR"
      },
      "execution_count": 17,
      "outputs": []
    },
    {
      "cell_type": "markdown",
      "source": [
        "####Creating pipelines"
      ],
      "metadata": {
        "id": "VW3u4xNVaJGW"
      }
    },
    {
      "cell_type": "code",
      "source": [
        "# Pipeline for numeric data\n",
        "numeric_pipe = make_pipeline(mean_imputer, scaler)\n",
        "\n",
        "# Pipeline for categorical data\n",
        "categorical_pipe = make_pipeline(one_hot_encoder)\n",
        "\n",
        "# Pipeline for ordinal data\n",
        "ordinal_pipe = make_pipeline(constant_value_imputer, ordinal_encoder, scaler)"
      ],
      "metadata": {
        "id": "bFfhGOxSaN-K"
      },
      "execution_count": 18,
      "outputs": []
    },
    {
      "cell_type": "markdown",
      "source": [
        "####Instantiate Column Transformers"
      ],
      "metadata": {
        "id": "cFxXWcWLbDfg"
      }
    },
    {
      "cell_type": "code",
      "source": [
        "# Tuples for use in transformer\n",
        "number_tuple = (numeric_pipe, number_selector)\n",
        "category_tuple = (categorical_pipe, nominal_columns)\n",
        "ordinal_tuple = (ordinal_pipe, ordinal_columns)\n",
        "\n",
        "# Column Transformer\n",
        "preprocessor = make_column_transformer(number_tuple, category_tuple, ordinal_tuple, remainder='passthrough')"
      ],
      "metadata": {
        "id": "5Fi7sQNBbLiN"
      },
      "execution_count": 19,
      "outputs": []
    },
    {
      "cell_type": "markdown",
      "source": [
        "####Fit preprocessor"
      ],
      "metadata": {
        "id": "ZTiV-dFFb47g"
      }
    },
    {
      "cell_type": "code",
      "source": [
        "# Fitting preprocessor on training data\n",
        "preprocessor.fit(X_train)"
      ],
      "metadata": {
        "id": "mN0s17SRb8S9",
        "colab": {
          "base_uri": "https://localhost:8080/",
          "height": 0
        },
        "outputId": "18ae5c6f-294d-4e95-f726-0a6dc30fa425"
      },
      "execution_count": 20,
      "outputs": [
        {
          "output_type": "execute_result",
          "data": {
            "text/plain": [
              "ColumnTransformer(remainder='passthrough',\n",
              "                  transformers=[('pipeline-1',\n",
              "                                 Pipeline(steps=[('simpleimputer',\n",
              "                                                  SimpleImputer()),\n",
              "                                                 ('standardscaler',\n",
              "                                                  StandardScaler())]),\n",
              "                                 <sklearn.compose._column_transformer.make_column_selector object at 0x7f79bc028bb0>),\n",
              "                                ('pipeline-2',\n",
              "                                 Pipeline(steps=[('onehotencoder',\n",
              "                                                  OneHotEncoder(handle_unknown='ignore',\n",
              "                                                                sparse=False))]),\n",
              "                                 ['Item_Fat_Content', 'Item_Type',\n",
              "                                  'Outlet_Identifier', 'Outlet_Type']),\n",
              "                                ('pipeline-3',\n",
              "                                 Pipeline(steps=[('simpleimputer',\n",
              "                                                  SimpleImputer(fill_value='Small',\n",
              "                                                                strategy='constant')),\n",
              "                                                 ('ordinalencoder',\n",
              "                                                  OrdinalEncoder(categories=[['Small',\n",
              "                                                                              'Medium',\n",
              "                                                                              'High'],\n",
              "                                                                             ['Tier '\n",
              "                                                                              '1',\n",
              "                                                                              'Tier '\n",
              "                                                                              '2',\n",
              "                                                                              'Tier '\n",
              "                                                                              '3']])),\n",
              "                                                 ('standardscaler',\n",
              "                                                  StandardScaler())]),\n",
              "                                 ['Outlet_Size', 'Outlet_Location_Type'])])"
            ],
            "text/html": [
              "<style>#sk-86004a5b-53b4-4da3-b42f-f436674f1d39 {color: black;background-color: white;}#sk-86004a5b-53b4-4da3-b42f-f436674f1d39 pre{padding: 0;}#sk-86004a5b-53b4-4da3-b42f-f436674f1d39 div.sk-toggleable {background-color: white;}#sk-86004a5b-53b4-4da3-b42f-f436674f1d39 label.sk-toggleable__label {cursor: pointer;display: block;width: 100%;margin-bottom: 0;padding: 0.3em;box-sizing: border-box;text-align: center;}#sk-86004a5b-53b4-4da3-b42f-f436674f1d39 label.sk-toggleable__label-arrow:before {content: \"▸\";float: left;margin-right: 0.25em;color: #696969;}#sk-86004a5b-53b4-4da3-b42f-f436674f1d39 label.sk-toggleable__label-arrow:hover:before {color: black;}#sk-86004a5b-53b4-4da3-b42f-f436674f1d39 div.sk-estimator:hover label.sk-toggleable__label-arrow:before {color: black;}#sk-86004a5b-53b4-4da3-b42f-f436674f1d39 div.sk-toggleable__content {max-height: 0;max-width: 0;overflow: hidden;text-align: left;background-color: #f0f8ff;}#sk-86004a5b-53b4-4da3-b42f-f436674f1d39 div.sk-toggleable__content pre {margin: 0.2em;color: black;border-radius: 0.25em;background-color: #f0f8ff;}#sk-86004a5b-53b4-4da3-b42f-f436674f1d39 input.sk-toggleable__control:checked~div.sk-toggleable__content {max-height: 200px;max-width: 100%;overflow: auto;}#sk-86004a5b-53b4-4da3-b42f-f436674f1d39 input.sk-toggleable__control:checked~label.sk-toggleable__label-arrow:before {content: \"▾\";}#sk-86004a5b-53b4-4da3-b42f-f436674f1d39 div.sk-estimator input.sk-toggleable__control:checked~label.sk-toggleable__label {background-color: #d4ebff;}#sk-86004a5b-53b4-4da3-b42f-f436674f1d39 div.sk-label input.sk-toggleable__control:checked~label.sk-toggleable__label {background-color: #d4ebff;}#sk-86004a5b-53b4-4da3-b42f-f436674f1d39 input.sk-hidden--visually {border: 0;clip: rect(1px 1px 1px 1px);clip: rect(1px, 1px, 1px, 1px);height: 1px;margin: -1px;overflow: hidden;padding: 0;position: absolute;width: 1px;}#sk-86004a5b-53b4-4da3-b42f-f436674f1d39 div.sk-estimator {font-family: monospace;background-color: #f0f8ff;border: 1px dotted black;border-radius: 0.25em;box-sizing: border-box;margin-bottom: 0.5em;}#sk-86004a5b-53b4-4da3-b42f-f436674f1d39 div.sk-estimator:hover {background-color: #d4ebff;}#sk-86004a5b-53b4-4da3-b42f-f436674f1d39 div.sk-parallel-item::after {content: \"\";width: 100%;border-bottom: 1px solid gray;flex-grow: 1;}#sk-86004a5b-53b4-4da3-b42f-f436674f1d39 div.sk-label:hover label.sk-toggleable__label {background-color: #d4ebff;}#sk-86004a5b-53b4-4da3-b42f-f436674f1d39 div.sk-serial::before {content: \"\";position: absolute;border-left: 1px solid gray;box-sizing: border-box;top: 2em;bottom: 0;left: 50%;}#sk-86004a5b-53b4-4da3-b42f-f436674f1d39 div.sk-serial {display: flex;flex-direction: column;align-items: center;background-color: white;padding-right: 0.2em;padding-left: 0.2em;}#sk-86004a5b-53b4-4da3-b42f-f436674f1d39 div.sk-item {z-index: 1;}#sk-86004a5b-53b4-4da3-b42f-f436674f1d39 div.sk-parallel {display: flex;align-items: stretch;justify-content: center;background-color: white;}#sk-86004a5b-53b4-4da3-b42f-f436674f1d39 div.sk-parallel::before {content: \"\";position: absolute;border-left: 1px solid gray;box-sizing: border-box;top: 2em;bottom: 0;left: 50%;}#sk-86004a5b-53b4-4da3-b42f-f436674f1d39 div.sk-parallel-item {display: flex;flex-direction: column;position: relative;background-color: white;}#sk-86004a5b-53b4-4da3-b42f-f436674f1d39 div.sk-parallel-item:first-child::after {align-self: flex-end;width: 50%;}#sk-86004a5b-53b4-4da3-b42f-f436674f1d39 div.sk-parallel-item:last-child::after {align-self: flex-start;width: 50%;}#sk-86004a5b-53b4-4da3-b42f-f436674f1d39 div.sk-parallel-item:only-child::after {width: 0;}#sk-86004a5b-53b4-4da3-b42f-f436674f1d39 div.sk-dashed-wrapped {border: 1px dashed gray;margin: 0 0.4em 0.5em 0.4em;box-sizing: border-box;padding-bottom: 0.4em;background-color: white;position: relative;}#sk-86004a5b-53b4-4da3-b42f-f436674f1d39 div.sk-label label {font-family: monospace;font-weight: bold;background-color: white;display: inline-block;line-height: 1.2em;}#sk-86004a5b-53b4-4da3-b42f-f436674f1d39 div.sk-label-container {position: relative;z-index: 2;text-align: center;}#sk-86004a5b-53b4-4da3-b42f-f436674f1d39 div.sk-container {/* jupyter's `normalize.less` sets `[hidden] { display: none; }` but bootstrap.min.css set `[hidden] { display: none !important; }` so we also need the `!important` here to be able to override the default hidden behavior on the sphinx rendered scikit-learn.org. See: https://github.com/scikit-learn/scikit-learn/issues/21755 */display: inline-block !important;position: relative;}#sk-86004a5b-53b4-4da3-b42f-f436674f1d39 div.sk-text-repr-fallback {display: none;}</style><div id=\"sk-86004a5b-53b4-4da3-b42f-f436674f1d39\" class=\"sk-top-container\"><div class=\"sk-text-repr-fallback\"><pre>ColumnTransformer(remainder=&#x27;passthrough&#x27;,\n",
              "                  transformers=[(&#x27;pipeline-1&#x27;,\n",
              "                                 Pipeline(steps=[(&#x27;simpleimputer&#x27;,\n",
              "                                                  SimpleImputer()),\n",
              "                                                 (&#x27;standardscaler&#x27;,\n",
              "                                                  StandardScaler())]),\n",
              "                                 &lt;sklearn.compose._column_transformer.make_column_selector object at 0x7f79bc028bb0&gt;),\n",
              "                                (&#x27;pipeline-2&#x27;,\n",
              "                                 Pipeline(steps=[(&#x27;onehotencoder&#x27;,\n",
              "                                                  OneHotEncoder(handle_unknown=&#x27;ignore&#x27;,\n",
              "                                                                sparse=False))]),\n",
              "                                 [&#x27;Item_Fat_Content&#x27;, &#x27;Item_Type&#x27;,\n",
              "                                  &#x27;Outlet_Identifier&#x27;, &#x27;Outlet_Type&#x27;]),\n",
              "                                (&#x27;pipeline-3&#x27;,\n",
              "                                 Pipeline(steps=[(&#x27;simpleimputer&#x27;,\n",
              "                                                  SimpleImputer(fill_value=&#x27;Small&#x27;,\n",
              "                                                                strategy=&#x27;constant&#x27;)),\n",
              "                                                 (&#x27;ordinalencoder&#x27;,\n",
              "                                                  OrdinalEncoder(categories=[[&#x27;Small&#x27;,\n",
              "                                                                              &#x27;Medium&#x27;,\n",
              "                                                                              &#x27;High&#x27;],\n",
              "                                                                             [&#x27;Tier &#x27;\n",
              "                                                                              &#x27;1&#x27;,\n",
              "                                                                              &#x27;Tier &#x27;\n",
              "                                                                              &#x27;2&#x27;,\n",
              "                                                                              &#x27;Tier &#x27;\n",
              "                                                                              &#x27;3&#x27;]])),\n",
              "                                                 (&#x27;standardscaler&#x27;,\n",
              "                                                  StandardScaler())]),\n",
              "                                 [&#x27;Outlet_Size&#x27;, &#x27;Outlet_Location_Type&#x27;])])</pre><b>Please rerun this cell to show the HTML repr or trust the notebook.</b></div><div class=\"sk-container\" hidden><div class=\"sk-item sk-dashed-wrapped\"><div class=\"sk-label-container\"><div class=\"sk-label sk-toggleable\"><input class=\"sk-toggleable__control sk-hidden--visually\" id=\"853481a4-87f9-4f41-8408-53374da253d3\" type=\"checkbox\" ><label for=\"853481a4-87f9-4f41-8408-53374da253d3\" class=\"sk-toggleable__label sk-toggleable__label-arrow\">ColumnTransformer</label><div class=\"sk-toggleable__content\"><pre>ColumnTransformer(remainder=&#x27;passthrough&#x27;,\n",
              "                  transformers=[(&#x27;pipeline-1&#x27;,\n",
              "                                 Pipeline(steps=[(&#x27;simpleimputer&#x27;,\n",
              "                                                  SimpleImputer()),\n",
              "                                                 (&#x27;standardscaler&#x27;,\n",
              "                                                  StandardScaler())]),\n",
              "                                 &lt;sklearn.compose._column_transformer.make_column_selector object at 0x7f79bc028bb0&gt;),\n",
              "                                (&#x27;pipeline-2&#x27;,\n",
              "                                 Pipeline(steps=[(&#x27;onehotencoder&#x27;,\n",
              "                                                  OneHotEncoder(handle_unknown=&#x27;ignore&#x27;,\n",
              "                                                                sparse=False))]),\n",
              "                                 [&#x27;Item_Fat_Content&#x27;, &#x27;Item_Type&#x27;,\n",
              "                                  &#x27;Outlet_Identifier&#x27;, &#x27;Outlet_Type&#x27;]),\n",
              "                                (&#x27;pipeline-3&#x27;,\n",
              "                                 Pipeline(steps=[(&#x27;simpleimputer&#x27;,\n",
              "                                                  SimpleImputer(fill_value=&#x27;Small&#x27;,\n",
              "                                                                strategy=&#x27;constant&#x27;)),\n",
              "                                                 (&#x27;ordinalencoder&#x27;,\n",
              "                                                  OrdinalEncoder(categories=[[&#x27;Small&#x27;,\n",
              "                                                                              &#x27;Medium&#x27;,\n",
              "                                                                              &#x27;High&#x27;],\n",
              "                                                                             [&#x27;Tier &#x27;\n",
              "                                                                              &#x27;1&#x27;,\n",
              "                                                                              &#x27;Tier &#x27;\n",
              "                                                                              &#x27;2&#x27;,\n",
              "                                                                              &#x27;Tier &#x27;\n",
              "                                                                              &#x27;3&#x27;]])),\n",
              "                                                 (&#x27;standardscaler&#x27;,\n",
              "                                                  StandardScaler())]),\n",
              "                                 [&#x27;Outlet_Size&#x27;, &#x27;Outlet_Location_Type&#x27;])])</pre></div></div></div><div class=\"sk-parallel\"><div class=\"sk-parallel-item\"><div class=\"sk-item\"><div class=\"sk-label-container\"><div class=\"sk-label sk-toggleable\"><input class=\"sk-toggleable__control sk-hidden--visually\" id=\"0a576f7e-a2a9-4f48-979e-b1c51d44bb97\" type=\"checkbox\" ><label for=\"0a576f7e-a2a9-4f48-979e-b1c51d44bb97\" class=\"sk-toggleable__label sk-toggleable__label-arrow\">pipeline-1</label><div class=\"sk-toggleable__content\"><pre>&lt;sklearn.compose._column_transformer.make_column_selector object at 0x7f79bc028bb0&gt;</pre></div></div></div><div class=\"sk-serial\"><div class=\"sk-item\"><div class=\"sk-serial\"><div class=\"sk-item\"><div class=\"sk-estimator sk-toggleable\"><input class=\"sk-toggleable__control sk-hidden--visually\" id=\"f4161c35-7421-4165-933b-a57c3d239eaa\" type=\"checkbox\" ><label for=\"f4161c35-7421-4165-933b-a57c3d239eaa\" class=\"sk-toggleable__label sk-toggleable__label-arrow\">SimpleImputer</label><div class=\"sk-toggleable__content\"><pre>SimpleImputer()</pre></div></div></div><div class=\"sk-item\"><div class=\"sk-estimator sk-toggleable\"><input class=\"sk-toggleable__control sk-hidden--visually\" id=\"9cb5389b-e0a8-48fc-aa6a-c474b9123856\" type=\"checkbox\" ><label for=\"9cb5389b-e0a8-48fc-aa6a-c474b9123856\" class=\"sk-toggleable__label sk-toggleable__label-arrow\">StandardScaler</label><div class=\"sk-toggleable__content\"><pre>StandardScaler()</pre></div></div></div></div></div></div></div></div><div class=\"sk-parallel-item\"><div class=\"sk-item\"><div class=\"sk-label-container\"><div class=\"sk-label sk-toggleable\"><input class=\"sk-toggleable__control sk-hidden--visually\" id=\"37ed115c-763e-47e2-af2f-39cb8eaac025\" type=\"checkbox\" ><label for=\"37ed115c-763e-47e2-af2f-39cb8eaac025\" class=\"sk-toggleable__label sk-toggleable__label-arrow\">pipeline-2</label><div class=\"sk-toggleable__content\"><pre>[&#x27;Item_Fat_Content&#x27;, &#x27;Item_Type&#x27;, &#x27;Outlet_Identifier&#x27;, &#x27;Outlet_Type&#x27;]</pre></div></div></div><div class=\"sk-serial\"><div class=\"sk-item\"><div class=\"sk-serial\"><div class=\"sk-item\"><div class=\"sk-estimator sk-toggleable\"><input class=\"sk-toggleable__control sk-hidden--visually\" id=\"fb31f73a-fe71-44f9-b360-0bd40f77714e\" type=\"checkbox\" ><label for=\"fb31f73a-fe71-44f9-b360-0bd40f77714e\" class=\"sk-toggleable__label sk-toggleable__label-arrow\">OneHotEncoder</label><div class=\"sk-toggleable__content\"><pre>OneHotEncoder(handle_unknown=&#x27;ignore&#x27;, sparse=False)</pre></div></div></div></div></div></div></div></div><div class=\"sk-parallel-item\"><div class=\"sk-item\"><div class=\"sk-label-container\"><div class=\"sk-label sk-toggleable\"><input class=\"sk-toggleable__control sk-hidden--visually\" id=\"9267786c-b056-49c1-be51-830803a566b4\" type=\"checkbox\" ><label for=\"9267786c-b056-49c1-be51-830803a566b4\" class=\"sk-toggleable__label sk-toggleable__label-arrow\">pipeline-3</label><div class=\"sk-toggleable__content\"><pre>[&#x27;Outlet_Size&#x27;, &#x27;Outlet_Location_Type&#x27;]</pre></div></div></div><div class=\"sk-serial\"><div class=\"sk-item\"><div class=\"sk-serial\"><div class=\"sk-item\"><div class=\"sk-estimator sk-toggleable\"><input class=\"sk-toggleable__control sk-hidden--visually\" id=\"716394a0-c231-4e03-8a81-1c20a8f44792\" type=\"checkbox\" ><label for=\"716394a0-c231-4e03-8a81-1c20a8f44792\" class=\"sk-toggleable__label sk-toggleable__label-arrow\">SimpleImputer</label><div class=\"sk-toggleable__content\"><pre>SimpleImputer(fill_value=&#x27;Small&#x27;, strategy=&#x27;constant&#x27;)</pre></div></div></div><div class=\"sk-item\"><div class=\"sk-estimator sk-toggleable\"><input class=\"sk-toggleable__control sk-hidden--visually\" id=\"6ee49d27-e7b6-4e5e-af7d-d4b1fedcf4a4\" type=\"checkbox\" ><label for=\"6ee49d27-e7b6-4e5e-af7d-d4b1fedcf4a4\" class=\"sk-toggleable__label sk-toggleable__label-arrow\">OrdinalEncoder</label><div class=\"sk-toggleable__content\"><pre>OrdinalEncoder(categories=[[&#x27;Small&#x27;, &#x27;Medium&#x27;, &#x27;High&#x27;],\n",
              "                           [&#x27;Tier 1&#x27;, &#x27;Tier 2&#x27;, &#x27;Tier 3&#x27;]])</pre></div></div></div><div class=\"sk-item\"><div class=\"sk-estimator sk-toggleable\"><input class=\"sk-toggleable__control sk-hidden--visually\" id=\"b3aeaa8d-3c61-4b85-bdba-b6647295ce84\" type=\"checkbox\" ><label for=\"b3aeaa8d-3c61-4b85-bdba-b6647295ce84\" class=\"sk-toggleable__label sk-toggleable__label-arrow\">StandardScaler</label><div class=\"sk-toggleable__content\"><pre>StandardScaler()</pre></div></div></div></div></div></div></div></div><div class=\"sk-parallel-item\"><div class=\"sk-item\"><div class=\"sk-label-container\"><div class=\"sk-label sk-toggleable\"><input class=\"sk-toggleable__control sk-hidden--visually\" id=\"3596d6bc-1f2f-4dc7-9296-20e64e9e59d5\" type=\"checkbox\" ><label for=\"3596d6bc-1f2f-4dc7-9296-20e64e9e59d5\" class=\"sk-toggleable__label sk-toggleable__label-arrow\">remainder</label><div class=\"sk-toggleable__content\"><pre>[]</pre></div></div></div><div class=\"sk-serial\"><div class=\"sk-item\"><div class=\"sk-estimator sk-toggleable\"><input class=\"sk-toggleable__control sk-hidden--visually\" id=\"eb799306-691a-481e-a4e1-723f34a82dca\" type=\"checkbox\" ><label for=\"eb799306-691a-481e-a4e1-723f34a82dca\" class=\"sk-toggleable__label sk-toggleable__label-arrow\">passthrough</label><div class=\"sk-toggleable__content\"><pre>passthrough</pre></div></div></div></div></div></div></div></div></div></div>"
            ]
          },
          "metadata": {},
          "execution_count": 20
        }
      ]
    },
    {
      "cell_type": "markdown",
      "source": [
        "####Process training and test data"
      ],
      "metadata": {
        "id": "oFazNEcGcDhm"
      }
    },
    {
      "cell_type": "code",
      "source": [
        "# Transforming training and test data with preprocessor\n",
        "X_train_processed = preprocessor.transform(X_train)\n",
        "X_test_processed = preprocessor.transform(X_test)"
      ],
      "metadata": {
        "id": "YBi00fXKcMKG"
      },
      "execution_count": 21,
      "outputs": []
    },
    {
      "cell_type": "markdown",
      "source": [
        "####View processed data"
      ],
      "metadata": {
        "id": "m9HACnsn-z5p"
      }
    },
    {
      "cell_type": "code",
      "source": [
        "# printing na values and data types\n",
        "print(f'There are {np.isnan(X_train_processed).sum().sum()} missing values in training data!')\n",
        "print(f'There are {np.isnan(X_test_processed).sum().sum()} missing values in testing data!')\n",
        "print('\\n'+ \"-\"*42 + '\\n')\n",
        "print(f'All data types in X_train_processed are {X_train_processed.dtype}.')\n",
        "print(f'All data types in X_test_processed are {X_test_processed.dtype}.')\n",
        "print('\\n'+ \"-\"*42 + '\\n')\n",
        "print(f'The shape of the NumPy array is {X_train_processed.shape}.')\n",
        "print('\\n'+ \"-\"*42 + '\\n')\n",
        "X_train_processed"
      ],
      "metadata": {
        "colab": {
          "base_uri": "https://localhost:8080/"
        },
        "id": "HtxAgA7x-5Kd",
        "outputId": "3508b88a-86fc-4d22-8338-6603b49f0ab2"
      },
      "execution_count": 22,
      "outputs": [
        {
          "output_type": "stream",
          "name": "stdout",
          "text": [
            "There are 0 missing values in training data!\n",
            "There are 0 missing values in testing data!\n",
            "\n",
            "------------------------------------------\n",
            "\n",
            "All data types in X_train_processed are float64.\n",
            "All data types in X_test_processed are float64.\n",
            "\n",
            "------------------------------------------\n",
            "\n",
            "The shape of the NumPy array is (6392, 38).\n",
            "\n",
            "------------------------------------------\n",
            "\n"
          ]
        },
        {
          "output_type": "execute_result",
          "data": {
            "text/plain": [
              "array([[ 0.81724868, -0.71277507,  1.82810922, ...,  0.        ,\n",
              "         0.66886204,  1.08494779],\n",
              "       [ 0.5563395 , -1.29105225,  0.60336888, ...,  0.        ,\n",
              "         0.66886204,  1.08494779],\n",
              "       [-0.13151196,  1.81331864,  0.24454056, ...,  0.        ,\n",
              "         0.66886204, -1.38477667],\n",
              "       ...,\n",
              "       [ 1.11373638, -0.92052713,  1.52302674, ...,  0.        ,\n",
              "        -0.79983124, -0.14991444],\n",
              "       [ 1.76600931, -0.2277552 , -0.38377708, ...,  0.        ,\n",
              "        -0.79983124, -0.14991444],\n",
              "       [ 0.81724868, -0.95867683, -0.73836105, ...,  0.        ,\n",
              "        -0.79983124, -1.38477667]])"
            ]
          },
          "metadata": {},
          "execution_count": 22
        }
      ]
    },
    {
      "cell_type": "markdown",
      "source": [
        "###Update 1:\n",
        "- Creating a class to quickly evaluate models.\n",
        "- Model and metric selection are variable"
      ],
      "metadata": {
        "id": "W3QmHYlUeGr_"
      }
    },
    {
      "cell_type": "code",
      "source": [
        "# Loading libraries\n",
        "from sklearn.linear_model import LinearRegression, Ridge, Lasso\n",
        "from sklearn.tree import DecisionTreeRegressor\n",
        "from sklearn.ensemble import RandomForestRegressor\n",
        "from sklearn.neighbors import KNeighborsRegressor\n",
        "from xgboost import XGBRegressor\n",
        "\n",
        "from sklearn import model_selection\n",
        "from sklearn.metrics import r2_score\n",
        "from sklearn.metrics import mean_absolute_error\n",
        "from sklearn.metrics import mean_squared_error\n",
        "from sklearn.metrics import accuracy_score"
      ],
      "metadata": {
        "id": "6rFLCHCXdsZ_"
      },
      "execution_count": 23,
      "outputs": []
    },
    {
      "cell_type": "code",
      "source": [
        "class StartingPoint:\n",
        "  def __init__(self, models, scoring):\n",
        "    self.models = models\n",
        "\n",
        "  def test_models(self, X, y, cv = 5):\n",
        "    self.results = {}\n",
        "    for name, model in self.models.items():\n",
        "      scores = model_selection.cross_validate(model, X, y, scoring = scoring, cv = cv)\n",
        "      for test, result in scores.items():\n",
        "        scores[test] = result.mean()\n",
        "      self.results[name] = scores\n",
        "\n",
        "    return pd.DataFrame.from_dict(self.results, orient='index')\n",
        "\n",
        "  def max_min(self, df):\n",
        "    return pd.concat([df.idxmax().rename('model_max'), df.max().rename('score_max'), \n",
        "                           df.idxmin().rename('model_min'), df.min().rename('score_min')], axis = 1)\n",
        "\n",
        "\n",
        "  def plot_results(self, df):\n",
        "    for key, value in df.to_dict().items():    \n",
        "        plt.figure(figsize = (15, 8))\n",
        "        x = np.arange(len(value))\n",
        "        plt.bar(x, list(value.values()), align = 'center', color = 'b')\n",
        "        plt.xticks(x,list(value.keys()))\n",
        "        plt.ylabel('Cross-Validation Score')\n",
        "        plt.xlabel('Models')\n",
        "        plt.title(f'{key} scores')\n",
        "        for index, value in enumerate(value.values()):\n",
        "          plt.text(index, (value * 1.05), str(round(value,2)))\n",
        "        plt.show()"
      ],
      "metadata": {
        "id": "nsCQ1xnoeowG"
      },
      "execution_count": 24,
      "outputs": []
    },
    {
      "cell_type": "code",
      "source": [
        "models = {'linear_regession': LinearRegression(),\n",
        "          'decision_tree': DecisionTreeRegressor(),\n",
        "          'random_forest': RandomForestRegressor(),\n",
        "          'ridge': Ridge(),\n",
        "          'lasso': Lasso(),\n",
        "          'knn': KNeighborsRegressor(),\n",
        "          'xgb': XGBRegressor()}\n",
        "\n",
        "scoring = ['neg_mean_absolute_error', 'r2', 'max_error']"
      ],
      "metadata": {
        "id": "VCBU8CfULaCS"
      },
      "execution_count": 25,
      "outputs": []
    },
    {
      "cell_type": "code",
      "source": [
        "seven_model_test = StartingPoint(models, scoring)\n",
        "test_results = seven_model_test.test_models(X_train_processed, y_train)"
      ],
      "metadata": {
        "id": "_O5gGbLigBZc"
      },
      "execution_count": null,
      "outputs": []
    },
    {
      "cell_type": "code",
      "source": [
        "test_results"
      ],
      "metadata": {
        "colab": {
          "base_uri": "https://localhost:8080/",
          "height": 269
        },
        "id": "NdiIIw_Lz8aS",
        "outputId": "de08d3f4-36da-4c13-cb6f-afd4c4408657"
      },
      "execution_count": 27,
      "outputs": [
        {
          "output_type": "execute_result",
          "data": {
            "text/plain": [
              "                  fit_time  score_time  test_neg_mean_absolute_error  \\\n",
              "linear_regession  0.086531    0.022050                   -851.988225   \n",
              "decision_tree     0.193477    0.008222                  -1076.029502   \n",
              "random_forest     6.600232    0.096705                   -798.560099   \n",
              "ridge             0.006124    0.001758                   -851.907117   \n",
              "lasso             0.066650    0.001757                   -850.719371   \n",
              "knn               0.002776    0.214882                   -873.631891   \n",
              "xgb               0.910545    0.007767                   -767.111882   \n",
              "\n",
              "                   test_r2  test_max_error  \n",
              "linear_regession  0.556602    -6177.372170  \n",
              "decision_tree     0.195798    -6954.281000  \n",
              "random_forest     0.560436    -5980.680328  \n",
              "ridge             0.556637    -6180.273480  \n",
              "lasso             0.557355    -6186.686361  \n",
              "knn               0.496237    -6599.249808  \n",
              "xgb               0.597930    -5861.446226  "
            ],
            "text/html": [
              "\n",
              "  <div id=\"df-9ae0f712-277c-4737-af24-42f932a2d0bd\">\n",
              "    <div class=\"colab-df-container\">\n",
              "      <div>\n",
              "<style scoped>\n",
              "    .dataframe tbody tr th:only-of-type {\n",
              "        vertical-align: middle;\n",
              "    }\n",
              "\n",
              "    .dataframe tbody tr th {\n",
              "        vertical-align: top;\n",
              "    }\n",
              "\n",
              "    .dataframe thead th {\n",
              "        text-align: right;\n",
              "    }\n",
              "</style>\n",
              "<table border=\"1\" class=\"dataframe\">\n",
              "  <thead>\n",
              "    <tr style=\"text-align: right;\">\n",
              "      <th></th>\n",
              "      <th>fit_time</th>\n",
              "      <th>score_time</th>\n",
              "      <th>test_neg_mean_absolute_error</th>\n",
              "      <th>test_r2</th>\n",
              "      <th>test_max_error</th>\n",
              "    </tr>\n",
              "  </thead>\n",
              "  <tbody>\n",
              "    <tr>\n",
              "      <th>linear_regession</th>\n",
              "      <td>0.086531</td>\n",
              "      <td>0.022050</td>\n",
              "      <td>-851.988225</td>\n",
              "      <td>0.556602</td>\n",
              "      <td>-6177.372170</td>\n",
              "    </tr>\n",
              "    <tr>\n",
              "      <th>decision_tree</th>\n",
              "      <td>0.193477</td>\n",
              "      <td>0.008222</td>\n",
              "      <td>-1076.029502</td>\n",
              "      <td>0.195798</td>\n",
              "      <td>-6954.281000</td>\n",
              "    </tr>\n",
              "    <tr>\n",
              "      <th>random_forest</th>\n",
              "      <td>6.600232</td>\n",
              "      <td>0.096705</td>\n",
              "      <td>-798.560099</td>\n",
              "      <td>0.560436</td>\n",
              "      <td>-5980.680328</td>\n",
              "    </tr>\n",
              "    <tr>\n",
              "      <th>ridge</th>\n",
              "      <td>0.006124</td>\n",
              "      <td>0.001758</td>\n",
              "      <td>-851.907117</td>\n",
              "      <td>0.556637</td>\n",
              "      <td>-6180.273480</td>\n",
              "    </tr>\n",
              "    <tr>\n",
              "      <th>lasso</th>\n",
              "      <td>0.066650</td>\n",
              "      <td>0.001757</td>\n",
              "      <td>-850.719371</td>\n",
              "      <td>0.557355</td>\n",
              "      <td>-6186.686361</td>\n",
              "    </tr>\n",
              "    <tr>\n",
              "      <th>knn</th>\n",
              "      <td>0.002776</td>\n",
              "      <td>0.214882</td>\n",
              "      <td>-873.631891</td>\n",
              "      <td>0.496237</td>\n",
              "      <td>-6599.249808</td>\n",
              "    </tr>\n",
              "    <tr>\n",
              "      <th>xgb</th>\n",
              "      <td>0.910545</td>\n",
              "      <td>0.007767</td>\n",
              "      <td>-767.111882</td>\n",
              "      <td>0.597930</td>\n",
              "      <td>-5861.446226</td>\n",
              "    </tr>\n",
              "  </tbody>\n",
              "</table>\n",
              "</div>\n",
              "      <button class=\"colab-df-convert\" onclick=\"convertToInteractive('df-9ae0f712-277c-4737-af24-42f932a2d0bd')\"\n",
              "              title=\"Convert this dataframe to an interactive table.\"\n",
              "              style=\"display:none;\">\n",
              "        \n",
              "  <svg xmlns=\"http://www.w3.org/2000/svg\" height=\"24px\"viewBox=\"0 0 24 24\"\n",
              "       width=\"24px\">\n",
              "    <path d=\"M0 0h24v24H0V0z\" fill=\"none\"/>\n",
              "    <path d=\"M18.56 5.44l.94 2.06.94-2.06 2.06-.94-2.06-.94-.94-2.06-.94 2.06-2.06.94zm-11 1L8.5 8.5l.94-2.06 2.06-.94-2.06-.94L8.5 2.5l-.94 2.06-2.06.94zm10 10l.94 2.06.94-2.06 2.06-.94-2.06-.94-.94-2.06-.94 2.06-2.06.94z\"/><path d=\"M17.41 7.96l-1.37-1.37c-.4-.4-.92-.59-1.43-.59-.52 0-1.04.2-1.43.59L10.3 9.45l-7.72 7.72c-.78.78-.78 2.05 0 2.83L4 21.41c.39.39.9.59 1.41.59.51 0 1.02-.2 1.41-.59l7.78-7.78 2.81-2.81c.8-.78.8-2.07 0-2.86zM5.41 20L4 18.59l7.72-7.72 1.47 1.35L5.41 20z\"/>\n",
              "  </svg>\n",
              "      </button>\n",
              "      \n",
              "  <style>\n",
              "    .colab-df-container {\n",
              "      display:flex;\n",
              "      flex-wrap:wrap;\n",
              "      gap: 12px;\n",
              "    }\n",
              "\n",
              "    .colab-df-convert {\n",
              "      background-color: #E8F0FE;\n",
              "      border: none;\n",
              "      border-radius: 50%;\n",
              "      cursor: pointer;\n",
              "      display: none;\n",
              "      fill: #1967D2;\n",
              "      height: 32px;\n",
              "      padding: 0 0 0 0;\n",
              "      width: 32px;\n",
              "    }\n",
              "\n",
              "    .colab-df-convert:hover {\n",
              "      background-color: #E2EBFA;\n",
              "      box-shadow: 0px 1px 2px rgba(60, 64, 67, 0.3), 0px 1px 3px 1px rgba(60, 64, 67, 0.15);\n",
              "      fill: #174EA6;\n",
              "    }\n",
              "\n",
              "    [theme=dark] .colab-df-convert {\n",
              "      background-color: #3B4455;\n",
              "      fill: #D2E3FC;\n",
              "    }\n",
              "\n",
              "    [theme=dark] .colab-df-convert:hover {\n",
              "      background-color: #434B5C;\n",
              "      box-shadow: 0px 1px 3px 1px rgba(0, 0, 0, 0.15);\n",
              "      filter: drop-shadow(0px 1px 2px rgba(0, 0, 0, 0.3));\n",
              "      fill: #FFFFFF;\n",
              "    }\n",
              "  </style>\n",
              "\n",
              "      <script>\n",
              "        const buttonEl =\n",
              "          document.querySelector('#df-9ae0f712-277c-4737-af24-42f932a2d0bd button.colab-df-convert');\n",
              "        buttonEl.style.display =\n",
              "          google.colab.kernel.accessAllowed ? 'block' : 'none';\n",
              "\n",
              "        async function convertToInteractive(key) {\n",
              "          const element = document.querySelector('#df-9ae0f712-277c-4737-af24-42f932a2d0bd');\n",
              "          const dataTable =\n",
              "            await google.colab.kernel.invokeFunction('convertToInteractive',\n",
              "                                                     [key], {});\n",
              "          if (!dataTable) return;\n",
              "\n",
              "          const docLinkHtml = 'Like what you see? Visit the ' +\n",
              "            '<a target=\"_blank\" href=https://colab.research.google.com/notebooks/data_table.ipynb>data table notebook</a>'\n",
              "            + ' to learn more about interactive tables.';\n",
              "          element.innerHTML = '';\n",
              "          dataTable['output_type'] = 'display_data';\n",
              "          await google.colab.output.renderOutput(dataTable, element);\n",
              "          const docLink = document.createElement('div');\n",
              "          docLink.innerHTML = docLinkHtml;\n",
              "          element.appendChild(docLink);\n",
              "        }\n",
              "      </script>\n",
              "    </div>\n",
              "  </div>\n",
              "  "
            ]
          },
          "metadata": {},
          "execution_count": 27
        }
      ]
    },
    {
      "cell_type": "code",
      "source": [
        "seven_model_test.plot_results(test_results)"
      ],
      "metadata": {
        "colab": {
          "base_uri": "https://localhost:8080/",
          "height": 1000
        },
        "id": "duLkTfyyzldl",
        "outputId": "aaeb3e00-619b-4ed2-c762-6ad6581f1629"
      },
      "execution_count": 28,
      "outputs": [
        {
          "output_type": "display_data",
          "data": {
            "text/plain": [
              "<Figure size 1080x576 with 1 Axes>"
            ],
            "image/png": "[encoded data removed]"
          },
          "metadata": {
            "needs_background": "light"
          }
        },
        {
          "output_type": "display_data",
          "data": {
            "text/plain": [
              "<Figure size 1080x576 with 1 Axes>"
            ],
            "image/png": "[encoded data removed]"
          },
          "metadata": {
            "needs_background": "light"
          }
        },
        {
          "output_type": "display_data",
          "data": {
            "text/plain": [
              "<Figure size 1080x576 with 1 Axes>"
            ],
            "image/png": "[encoded data removed]"
          },
          "metadata": {
            "needs_background": "light"
          }
        },
        {
          "output_type": "display_data",
          "data": {
            "text/plain": [
              "<Figure size 1080x576 with 1 Axes>"
            ],
            "image/png": "[encoded data removed]"
          },
          "metadata": {
            "needs_background": "light"
          }
        },
        {
          "output_type": "display_data",
          "data": {
            "text/plain": [
              "<Figure size 1080x576 with 1 Axes>"
            ],
            "image/png": "[encoded data removed]"
          },
          "metadata": {
            "needs_background": "light"
          }
        }
      ]
    },
    {
      "cell_type": "code",
      "source": [
        "seven_model_test.max_min(test_results)"
      ],
      "metadata": {
        "colab": {
          "base_uri": "https://localhost:8080/",
          "height": 206
        },
        "id": "DH7ezBpPKOKs",
        "outputId": "5c05fa89-22e0-487f-a9d0-3d59ca39ca43"
      },
      "execution_count": 29,
      "outputs": [
        {
          "output_type": "execute_result",
          "data": {
            "text/plain": [
              "                                  model_max    score_max      model_min  \\\n",
              "fit_time                      random_forest     6.600232            knn   \n",
              "score_time                              knn     0.214882          lasso   \n",
              "test_neg_mean_absolute_error            xgb  -767.111882  decision_tree   \n",
              "test_r2                                 xgb     0.597930  decision_tree   \n",
              "test_max_error                          xgb -5861.446226  decision_tree   \n",
              "\n",
              "                                score_min  \n",
              "fit_time                         0.002776  \n",
              "score_time                       0.001757  \n",
              "test_neg_mean_absolute_error -1076.029502  \n",
              "test_r2                          0.195798  \n",
              "test_max_error               -6954.281000  "
            ],
            "text/html": [
              "\n",
              "  <div id=\"df-bb10a875-6f56-4662-976a-eba6f7377e3d\">\n",
              "    <div class=\"colab-df-container\">\n",
              "      <div>\n",
              "<style scoped>\n",
              "    .dataframe tbody tr th:only-of-type {\n",
              "        vertical-align: middle;\n",
              "    }\n",
              "\n",
              "    .dataframe tbody tr th {\n",
              "        vertical-align: top;\n",
              "    }\n",
              "\n",
              "    .dataframe thead th {\n",
              "        text-align: right;\n",
              "    }\n",
              "</style>\n",
              "<table border=\"1\" class=\"dataframe\">\n",
              "  <thead>\n",
              "    <tr style=\"text-align: right;\">\n",
              "      <th></th>\n",
              "      <th>model_max</th>\n",
              "      <th>score_max</th>\n",
              "      <th>model_min</th>\n",
              "      <th>score_min</th>\n",
              "    </tr>\n",
              "  </thead>\n",
              "  <tbody>\n",
              "    <tr>\n",
              "      <th>fit_time</th>\n",
              "      <td>random_forest</td>\n",
              "      <td>6.600232</td>\n",
              "      <td>knn</td>\n",
              "      <td>0.002776</td>\n",
              "    </tr>\n",
              "    <tr>\n",
              "      <th>score_time</th>\n",
              "      <td>knn</td>\n",
              "      <td>0.214882</td>\n",
              "      <td>lasso</td>\n",
              "      <td>0.001757</td>\n",
              "    </tr>\n",
              "    <tr>\n",
              "      <th>test_neg_mean_absolute_error</th>\n",
              "      <td>xgb</td>\n",
              "      <td>-767.111882</td>\n",
              "      <td>decision_tree</td>\n",
              "      <td>-1076.029502</td>\n",
              "    </tr>\n",
              "    <tr>\n",
              "      <th>test_r2</th>\n",
              "      <td>xgb</td>\n",
              "      <td>0.597930</td>\n",
              "      <td>decision_tree</td>\n",
              "      <td>0.195798</td>\n",
              "    </tr>\n",
              "    <tr>\n",
              "      <th>test_max_error</th>\n",
              "      <td>xgb</td>\n",
              "      <td>-5861.446226</td>\n",
              "      <td>decision_tree</td>\n",
              "      <td>-6954.281000</td>\n",
              "    </tr>\n",
              "  </tbody>\n",
              "</table>\n",
              "</div>\n",
              "      <button class=\"colab-df-convert\" onclick=\"convertToInteractive('df-bb10a875-6f56-4662-976a-eba6f7377e3d')\"\n",
              "              title=\"Convert this dataframe to an interactive table.\"\n",
              "              style=\"display:none;\">\n",
              "        \n",
              "  <svg xmlns=\"http://www.w3.org/2000/svg\" height=\"24px\"viewBox=\"0 0 24 24\"\n",
              "       width=\"24px\">\n",
              "    <path d=\"M0 0h24v24H0V0z\" fill=\"none\"/>\n",
              "    <path d=\"M18.56 5.44l.94 2.06.94-2.06 2.06-.94-2.06-.94-.94-2.06-.94 2.06-2.06.94zm-11 1L8.5 8.5l.94-2.06 2.06-.94-2.06-.94L8.5 2.5l-.94 2.06-2.06.94zm10 10l.94 2.06.94-2.06 2.06-.94-2.06-.94-.94-2.06-.94 2.06-2.06.94z\"/><path d=\"M17.41 7.96l-1.37-1.37c-.4-.4-.92-.59-1.43-.59-.52 0-1.04.2-1.43.59L10.3 9.45l-7.72 7.72c-.78.78-.78 2.05 0 2.83L4 21.41c.39.39.9.59 1.41.59.51 0 1.02-.2 1.41-.59l7.78-7.78 2.81-2.81c.8-.78.8-2.07 0-2.86zM5.41 20L4 18.59l7.72-7.72 1.47 1.35L5.41 20z\"/>\n",
              "  </svg>\n",
              "      </button>\n",
              "      \n",
              "  <style>\n",
              "    .colab-df-container {\n",
              "      display:flex;\n",
              "      flex-wrap:wrap;\n",
              "      gap: 12px;\n",
              "    }\n",
              "\n",
              "    .colab-df-convert {\n",
              "      background-color: #E8F0FE;\n",
              "      border: none;\n",
              "      border-radius: 50%;\n",
              "      cursor: pointer;\n",
              "      display: none;\n",
              "      fill: #1967D2;\n",
              "      height: 32px;\n",
              "      padding: 0 0 0 0;\n",
              "      width: 32px;\n",
              "    }\n",
              "\n",
              "    .colab-df-convert:hover {\n",
              "      background-color: #E2EBFA;\n",
              "      box-shadow: 0px 1px 2px rgba(60, 64, 67, 0.3), 0px 1px 3px 1px rgba(60, 64, 67, 0.15);\n",
              "      fill: #174EA6;\n",
              "    }\n",
              "\n",
              "    [theme=dark] .colab-df-convert {\n",
              "      background-color: #3B4455;\n",
              "      fill: #D2E3FC;\n",
              "    }\n",
              "\n",
              "    [theme=dark] .colab-df-convert:hover {\n",
              "      background-color: #434B5C;\n",
              "      box-shadow: 0px 1px 3px 1px rgba(0, 0, 0, 0.15);\n",
              "      filter: drop-shadow(0px 1px 2px rgba(0, 0, 0, 0.3));\n",
              "      fill: #FFFFFF;\n",
              "    }\n",
              "  </style>\n",
              "\n",
              "      <script>\n",
              "        const buttonEl =\n",
              "          document.querySelector('#df-bb10a875-6f56-4662-976a-eba6f7377e3d button.colab-df-convert');\n",
              "        buttonEl.style.display =\n",
              "          google.colab.kernel.accessAllowed ? 'block' : 'none';\n",
              "\n",
              "        async function convertToInteractive(key) {\n",
              "          const element = document.querySelector('#df-bb10a875-6f56-4662-976a-eba6f7377e3d');\n",
              "          const dataTable =\n",
              "            await google.colab.kernel.invokeFunction('convertToInteractive',\n",
              "                                                     [key], {});\n",
              "          if (!dataTable) return;\n",
              "\n",
              "          const docLinkHtml = 'Like what you see? Visit the ' +\n",
              "            '<a target=\"_blank\" href=https://colab.research.google.com/notebooks/data_table.ipynb>data table notebook</a>'\n",
              "            + ' to learn more about interactive tables.';\n",
              "          element.innerHTML = '';\n",
              "          dataTable['output_type'] = 'display_data';\n",
              "          await google.colab.output.renderOutput(dataTable, element);\n",
              "          const docLink = document.createElement('div');\n",
              "          docLink.innerHTML = docLinkHtml;\n",
              "          element.appendChild(docLink);\n",
              "        }\n",
              "      </script>\n",
              "    </div>\n",
              "  </div>\n",
              "  "
            ]
          },
          "metadata": {},
          "execution_count": 29
        }
      ]
    },
    {
      "cell_type": "markdown",
      "source": [
        "If I had used this class on my first project I would have choosen a differnt model to tune. I would have seen improved results."
      ],
      "metadata": {
        "id": "2Ufxlke785mr"
      }
    },
    {
      "cell_type": "markdown",
      "source": [
        "###Model Assessment"
      ],
      "metadata": {
        "id": "cAdM_toUyitz"
      }
    },
    {
      "cell_type": "markdown",
      "source": [
        "####Linear Regression Model"
      ],
      "metadata": {
        "id": "tmBJ9W0YfDLu"
      }
    },
    {
      "cell_type": "code",
      "source": [
        "# Instantiate the Linear Regression Model\n",
        "linear_regression_model = LinearRegression()\n",
        "\n",
        "# Fit the linear regression model on the training data\n",
        "linear_regression_model.fit(X_train_processed, y_train)\n",
        "\n",
        "# Using the model to predict targets on the test set\n",
        "linear_regression_predictions = linear_regression_model.predict(X_test_processed)"
      ],
      "metadata": {
        "id": "xllxLjS8gohS"
      },
      "execution_count": 30,
      "outputs": []
    },
    {
      "cell_type": "code",
      "source": [
        "# Evaluating the performace of the linear regression model\n",
        "# R^2\n",
        "linear_regression_r2 = r2_score(y_test, linear_regression_predictions)\n",
        "print(f'The Linear Regression Model R^2 score is {linear_regression_r2}')\n",
        "\n",
        "# RMSE\n",
        "linear_regression_rmse = np.sqrt(mean_squared_error(y_test, linear_regression_predictions))\n",
        "print(f'The Linear Regression Model RMSE score is {linear_regression_rmse}')"
      ],
      "metadata": {
        "colab": {
          "base_uri": "https://localhost:8080/"
        },
        "id": "h_-ePzIgh96v",
        "outputId": "e4c0f382-4a80-4aa7-e4f4-6287a8f86f1e"
      },
      "execution_count": 31,
      "outputs": [
        {
          "output_type": "stream",
          "name": "stdout",
          "text": [
            "The Linear Regression Model R^2 score is 0.565400284442562\n",
            "The Linear Regression Model RMSE score is 1095.011755421011\n"
          ]
        }
      ]
    },
    {
      "cell_type": "markdown",
      "source": [
        "####Regression Tree Model"
      ],
      "metadata": {
        "id": "pVK_R8Okjxu3"
      }
    },
    {
      "cell_type": "code",
      "source": [
        "# Instantiate the decision tree model\n",
        "decision_tree = DecisionTreeRegressor(random_state=42)\n",
        "\n",
        "# Fitting the model to the training data\n",
        "decision_tree.fit(X_train_processed, y_train)\n",
        "\n",
        "# predicting target values with the decision tree model\n",
        "decision_tree_predictions = decision_tree.predict(X_test_processed)"
      ],
      "metadata": {
        "id": "odR6bBFdlXP6"
      },
      "execution_count": 32,
      "outputs": []
    },
    {
      "cell_type": "code",
      "source": [
        "# Evaluating the performace of the decision tree model\n",
        "print('Decision Tree Model before hyperparameter tuning')\n",
        "\n",
        "# R^2\n",
        "decision_tree_r2 = r2_score(y_test, decision_tree_predictions)\n",
        "print(f'The Decision Tree Model R^2 score is {decision_tree_r2}')\n",
        "\n",
        "# RMSE\n",
        "decision_tree_rmse = np.sqrt(mean_squared_error(y_test, decision_tree_predictions))\n",
        "print(f'The Decision Tree Model RMSE score is {decision_tree_rmse}')"
      ],
      "metadata": {
        "colab": {
          "base_uri": "https://localhost:8080/"
        },
        "id": "LOM9KGuEl7oD",
        "outputId": "425ad1a9-b234-4d80-b470-9a6bd4b94cd3"
      },
      "execution_count": 33,
      "outputs": [
        {
          "output_type": "stream",
          "name": "stdout",
          "text": [
            "Decision Tree Model before hyperparameter tuning\n",
            "The Decision Tree Model R^2 score is 0.1782602077635025\n",
            "The Decision Tree Model RMSE score is 1505.709607881764\n"
          ]
        }
      ]
    },
    {
      "cell_type": "code",
      "source": [
        "# finding the depth of the decision tree\n",
        "decision_tree.get_depth()"
      ],
      "metadata": {
        "colab": {
          "base_uri": "https://localhost:8080/"
        },
        "id": "aAXt_iTxmvWE",
        "outputId": "9e3a322c-0746-46cf-a9ce-51f6898f7c70"
      },
      "execution_count": 34,
      "outputs": [
        {
          "output_type": "execute_result",
          "data": {
            "text/plain": [
              "40"
            ]
          },
          "metadata": {},
          "execution_count": 34
        }
      ]
    },
    {
      "cell_type": "code",
      "source": [
        "# creating the range of depth for the model\n",
        "depth_range = list(range(2, 41))\n",
        "# list to hold the values from each test run\n",
        "decision_tree_r2_list = []\n",
        "# using a for loop to cycle through the range of depth in the tree\n",
        "for depth in depth_range:\n",
        "  decision_tree = DecisionTreeRegressor(max_depth=depth, random_state=42)\n",
        "  decision_tree.fit(X_train_processed, y_train)\n",
        "  score = decision_tree.score(X_test_processed, y_test)\n",
        "  decision_tree_r2_list.append(score)"
      ],
      "metadata": {
        "id": "wJVTvQ-Gm8C0"
      },
      "execution_count": 35,
      "outputs": []
    },
    {
      "cell_type": "code",
      "source": [
        "# plotting the R^2 value as the model is tuned\n",
        "plt.plot(depth_range, decision_tree_r2_list);"
      ],
      "metadata": {
        "colab": {
          "base_uri": "https://localhost:8080/",
          "height": 0
        },
        "id": "z3oSr1KVoH5a",
        "outputId": "713dacd3-1cc9-415a-f941-3df2618e96e3"
      },
      "execution_count": 36,
      "outputs": [
        {
          "output_type": "display_data",
          "data": {
            "text/plain": [
              "<Figure size 432x288 with 1 Axes>"
            ],
            "image/png": "[encoded data removed]"
          },
          "metadata": {
            "needs_background": "light"
          }
        }
      ]
    },
    {
      "cell_type": "code",
      "source": [
        "decision_tree_r2_dict = dict(zip(depth_range, decision_tree_r2_list))\n",
        "# selecting the best r^2 in the dictionary\n",
        "# variables for best r^2 and depth\n",
        "best_r2 = 0\n",
        "best_depth = 0\n",
        "# checking the dictionary for the best R^2 result\n",
        "for depth, r2 in decision_tree_r2_dict.items():\n",
        "  current_r2 = r2\n",
        "  if current_r2 > best_r2:\n",
        "    best_r2 = r2\n",
        "    best_depth = depth\n",
        "\n",
        "print(f'The best depth of the decision tree is {best_depth} since it yeilds the best R^2 of {best_r2}')"
      ],
      "metadata": {
        "colab": {
          "base_uri": "https://localhost:8080/"
        },
        "id": "E3-ndmOroVjp",
        "outputId": "eb9770d2-82d0-4c61-fc22-8e4283c50e20"
      },
      "execution_count": 37,
      "outputs": [
        {
          "output_type": "stream",
          "name": "stdout",
          "text": [
            "The best depth of the decision tree is 5 since it yeilds the best R^2 of 0.5947099753159972\n"
          ]
        }
      ]
    },
    {
      "cell_type": "code",
      "source": [
        "# Re-running the model with the best hyperparapters\n",
        "# Instantiate the decision tree model with max depth at 15\n",
        "decision_tree = DecisionTreeRegressor(max_depth=5 ,random_state=42)\n",
        "\n",
        "# Fitting the model to the training data\n",
        "decision_tree.fit(X_train_processed, y_train)\n",
        "\n",
        "# predicting target values with the decision tree model\n",
        "decision_tree_predictions = decision_tree.predict(X_test_processed)"
      ],
      "metadata": {
        "id": "RNJjFSF40kJf"
      },
      "execution_count": 38,
      "outputs": []
    },
    {
      "cell_type": "markdown",
      "source": [
        "####Model Recommendation and Performance"
      ],
      "metadata": {
        "id": "wlF7Kbi6A0ga"
      }
    },
    {
      "cell_type": "markdown",
      "source": [
        ">I would not recommend either model to predict Item_Outlet_Sales. Here are some additional metrics to understand the best performing decision tree model. I will summarize the findings at the end of this section."
      ],
      "metadata": {
        "id": "Nspoh3B6Bixu"
      }
    },
    {
      "cell_type": "code",
      "source": [
        "# Calculating the MAE, MSE, and additional metrics.\n",
        "# Calculating the Mean Absolute Error\n",
        "mae = mean_absolute_error(y_test, decision_tree_predictions)\n",
        "print(f'The Mean Absolute Error of the Decision Tree is {mae}.')\n",
        "\n",
        "# Calculating the Mean Squared Error\n",
        "mse = mean_squared_error(y_test, decision_tree_predictions)\n",
        "print(f'The Mean Squared Error of the Decision Tree is {mse}.')\n",
        "\n",
        "# Printing the Root Mean Squared Error calculated previously\n",
        "rmse = np.sqrt(mse)\n",
        "print(f'The Root Mean Squared Error of the Decision Tree is {rmse}.') \n",
        "\n",
        "# Printing the R^2 calculated previously\n",
        "r2 = r2_score(y_test, decision_tree_predictions)\n",
        "print(f'The R^2 of the Decision Tree is {r2}.')"
      ],
      "metadata": {
        "colab": {
          "base_uri": "https://localhost:8080/"
        },
        "id": "75QbimuUW2Q7",
        "outputId": "784565f7-87de-47c7-ef18-545f3946d166"
      },
      "execution_count": 39,
      "outputs": [
        {
          "output_type": "stream",
          "name": "stdout",
          "text": [
            "The Mean Absolute Error of the Decision Tree is 738.3173097797822.\n",
            "The Mean Squared Error of the Decision Tree is 1118185.973077762.\n",
            "The Root Mean Squared Error of the Decision Tree is 1057.4431299496734.\n",
            "The R^2 of the Decision Tree is 0.5947099753159972.\n"
          ]
        }
      ]
    },
    {
      "cell_type": "code",
      "source": [
        "# Creating a dataframe to better understand the performance of the decision tree model\n",
        "dec_tree_predictions = pd.Series(decision_tree_predictions)\n",
        "findings_df = pd.concat([y_test.reset_index(), dec_tree_predictions.reset_index()], axis=1)\n",
        "findings_df.set_axis(['drop', 'Item_Outlet_Sales', 'double drop', 'Predictions'], axis=1, inplace=True)\n",
        "# removing the indexes that were created when the data series were merged.\n",
        "findings_df.drop(columns = ['drop', 'double drop'], inplace=True)\n",
        "\n",
        "# creating a function to categorize the performance of the model\n",
        "def difference_sorter(x):\n",
        "  if x < 50:\n",
        "    return 'less than 50'\n",
        "  elif x < 100:\n",
        "    return 'between 50 and 99'\n",
        "  elif x < 200:\n",
        "    return 'between 100 and 199'\n",
        "  elif x < 350:\n",
        "    return 'between 200 and 349'\n",
        "  elif x < 500:\n",
        "    return 'between 350 and 499'\n",
        "  elif x < 1000:\n",
        "    return 'between 500 and 999'\n",
        "  else:\n",
        "    return 'greater than 1000'\n",
        "\n",
        "# Creating a column in the dataframe that shows the absolute difference between test and prediction values\n",
        "findings_df['Absolute_Difference'] = findings_df.apply(lambda row: abs(row.Item_Outlet_Sales - row.Predictions), axis=1)\n",
        "\n",
        "findings_df['Difference'] = findings_df.apply(lambda row: row.Item_Outlet_Sales - row.Predictions, axis=1)\n",
        "\n",
        "# creating a column using the above function to categorize the differences calculated\n",
        "findings_df['Sorted_Difference'] = findings_df['Absolute_Difference'].apply(difference_sorter)\n",
        "findings_df.head()"
      ],
      "metadata": {
        "colab": {
          "base_uri": "https://localhost:8080/",
          "height": 0
        },
        "id": "xfyA4SbxIMES",
        "outputId": "a662782a-f2c2-4d00-d71d-4c50f853d82d"
      },
      "execution_count": 40,
      "outputs": [
        {
          "output_type": "execute_result",
          "data": {
            "text/plain": [
              "   Item_Outlet_Sales  Predictions  Absolute_Difference  Difference  \\\n",
              "0          1743.0644  1141.520153           601.544247  601.544247   \n",
              "1           356.8688   730.151568           373.282768 -373.282768   \n",
              "2           377.5086   730.151568           352.642968 -352.642968   \n",
              "3          5778.4782  5240.872776           537.605424  537.605424   \n",
              "4          2356.9320  3008.585683           651.653683 -651.653683   \n",
              "\n",
              "     Sorted_Difference  \n",
              "0  between 500 and 999  \n",
              "1  between 350 and 499  \n",
              "2  between 350 and 499  \n",
              "3  between 500 and 999  \n",
              "4  between 500 and 999  "
            ],
            "text/html": [
              "\n",
              "  <div id=\"df-d0ed45e6-411e-4c83-9567-2b76e24f2a09\">\n",
              "    <div class=\"colab-df-container\">\n",
              "      <div>\n",
              "<style scoped>\n",
              "    .dataframe tbody tr th:only-of-type {\n",
              "        vertical-align: middle;\n",
              "    }\n",
              "\n",
              "    .dataframe tbody tr th {\n",
              "        vertical-align: top;\n",
              "    }\n",
              "\n",
              "    .dataframe thead th {\n",
              "        text-align: right;\n",
              "    }\n",
              "</style>\n",
              "<table border=\"1\" class=\"dataframe\">\n",
              "  <thead>\n",
              "    <tr style=\"text-align: right;\">\n",
              "      <th></th>\n",
              "      <th>Item_Outlet_Sales</th>\n",
              "      <th>Predictions</th>\n",
              "      <th>Absolute_Difference</th>\n",
              "      <th>Difference</th>\n",
              "      <th>Sorted_Difference</th>\n",
              "    </tr>\n",
              "  </thead>\n",
              "  <tbody>\n",
              "    <tr>\n",
              "      <th>0</th>\n",
              "      <td>1743.0644</td>\n",
              "      <td>1141.520153</td>\n",
              "      <td>601.544247</td>\n",
              "      <td>601.544247</td>\n",
              "      <td>between 500 and 999</td>\n",
              "    </tr>\n",
              "    <tr>\n",
              "      <th>1</th>\n",
              "      <td>356.8688</td>\n",
              "      <td>730.151568</td>\n",
              "      <td>373.282768</td>\n",
              "      <td>-373.282768</td>\n",
              "      <td>between 350 and 499</td>\n",
              "    </tr>\n",
              "    <tr>\n",
              "      <th>2</th>\n",
              "      <td>377.5086</td>\n",
              "      <td>730.151568</td>\n",
              "      <td>352.642968</td>\n",
              "      <td>-352.642968</td>\n",
              "      <td>between 350 and 499</td>\n",
              "    </tr>\n",
              "    <tr>\n",
              "      <th>3</th>\n",
              "      <td>5778.4782</td>\n",
              "      <td>5240.872776</td>\n",
              "      <td>537.605424</td>\n",
              "      <td>537.605424</td>\n",
              "      <td>between 500 and 999</td>\n",
              "    </tr>\n",
              "    <tr>\n",
              "      <th>4</th>\n",
              "      <td>2356.9320</td>\n",
              "      <td>3008.585683</td>\n",
              "      <td>651.653683</td>\n",
              "      <td>-651.653683</td>\n",
              "      <td>between 500 and 999</td>\n",
              "    </tr>\n",
              "  </tbody>\n",
              "</table>\n",
              "</div>\n",
              "      <button class=\"colab-df-convert\" onclick=\"convertToInteractive('df-d0ed45e6-411e-4c83-9567-2b76e24f2a09')\"\n",
              "              title=\"Convert this dataframe to an interactive table.\"\n",
              "              style=\"display:none;\">\n",
              "        \n",
              "  <svg xmlns=\"http://www.w3.org/2000/svg\" height=\"24px\"viewBox=\"0 0 24 24\"\n",
              "       width=\"24px\">\n",
              "    <path d=\"M0 0h24v24H0V0z\" fill=\"none\"/>\n",
              "    <path d=\"M18.56 5.44l.94 2.06.94-2.06 2.06-.94-2.06-.94-.94-2.06-.94 2.06-2.06.94zm-11 1L8.5 8.5l.94-2.06 2.06-.94-2.06-.94L8.5 2.5l-.94 2.06-2.06.94zm10 10l.94 2.06.94-2.06 2.06-.94-2.06-.94-.94-2.06-.94 2.06-2.06.94z\"/><path d=\"M17.41 7.96l-1.37-1.37c-.4-.4-.92-.59-1.43-.59-.52 0-1.04.2-1.43.59L10.3 9.45l-7.72 7.72c-.78.78-.78 2.05 0 2.83L4 21.41c.39.39.9.59 1.41.59.51 0 1.02-.2 1.41-.59l7.78-7.78 2.81-2.81c.8-.78.8-2.07 0-2.86zM5.41 20L4 18.59l7.72-7.72 1.47 1.35L5.41 20z\"/>\n",
              "  </svg>\n",
              "      </button>\n",
              "      \n",
              "  <style>\n",
              "    .colab-df-container {\n",
              "      display:flex;\n",
              "      flex-wrap:wrap;\n",
              "      gap: 12px;\n",
              "    }\n",
              "\n",
              "    .colab-df-convert {\n",
              "      background-color: #E8F0FE;\n",
              "      border: none;\n",
              "      border-radius: 50%;\n",
              "      cursor: pointer;\n",
              "      display: none;\n",
              "      fill: #1967D2;\n",
              "      height: 32px;\n",
              "      padding: 0 0 0 0;\n",
              "      width: 32px;\n",
              "    }\n",
              "\n",
              "    .colab-df-convert:hover {\n",
              "      background-color: #E2EBFA;\n",
              "      box-shadow: 0px 1px 2px rgba(60, 64, 67, 0.3), 0px 1px 3px 1px rgba(60, 64, 67, 0.15);\n",
              "      fill: #174EA6;\n",
              "    }\n",
              "\n",
              "    [theme=dark] .colab-df-convert {\n",
              "      background-color: #3B4455;\n",
              "      fill: #D2E3FC;\n",
              "    }\n",
              "\n",
              "    [theme=dark] .colab-df-convert:hover {\n",
              "      background-color: #434B5C;\n",
              "      box-shadow: 0px 1px 3px 1px rgba(0, 0, 0, 0.15);\n",
              "      filter: drop-shadow(0px 1px 2px rgba(0, 0, 0, 0.3));\n",
              "      fill: #FFFFFF;\n",
              "    }\n",
              "  </style>\n",
              "\n",
              "      <script>\n",
              "        const buttonEl =\n",
              "          document.querySelector('#df-d0ed45e6-411e-4c83-9567-2b76e24f2a09 button.colab-df-convert');\n",
              "        buttonEl.style.display =\n",
              "          google.colab.kernel.accessAllowed ? 'block' : 'none';\n",
              "\n",
              "        async function convertToInteractive(key) {\n",
              "          const element = document.querySelector('#df-d0ed45e6-411e-4c83-9567-2b76e24f2a09');\n",
              "          const dataTable =\n",
              "            await google.colab.kernel.invokeFunction('convertToInteractive',\n",
              "                                                     [key], {});\n",
              "          if (!dataTable) return;\n",
              "\n",
              "          const docLinkHtml = 'Like what you see? Visit the ' +\n",
              "            '<a target=\"_blank\" href=https://colab.research.google.com/notebooks/data_table.ipynb>data table notebook</a>'\n",
              "            + ' to learn more about interactive tables.';\n",
              "          element.innerHTML = '';\n",
              "          dataTable['output_type'] = 'display_data';\n",
              "          await google.colab.output.renderOutput(dataTable, element);\n",
              "          const docLink = document.createElement('div');\n",
              "          docLink.innerHTML = docLinkHtml;\n",
              "          element.appendChild(docLink);\n",
              "        }\n",
              "      </script>\n",
              "    </div>\n",
              "  </div>\n",
              "  "
            ]
          },
          "metadata": {},
          "execution_count": 40
        }
      ]
    },
    {
      "cell_type": "code",
      "source": [
        "# Exploring the sorted difference column for number of occurances\n",
        "findings_df['Sorted_Difference'].value_counts()"
      ],
      "metadata": {
        "colab": {
          "base_uri": "https://localhost:8080/"
        },
        "id": "VhhNoPWT0g2Z",
        "outputId": "e083ceb2-91fb-4f70-ea59-5d5453dcc9cc"
      },
      "execution_count": 41,
      "outputs": [
        {
          "output_type": "execute_result",
          "data": {
            "text/plain": [
              "greater than 1000      555\n",
              "between 500 and 999    498\n",
              "between 200 and 349    270\n",
              "between 100 and 199    267\n",
              "between 350 and 499    235\n",
              "between 50 and 99      166\n",
              "less than 50           140\n",
              "Name: Sorted_Difference, dtype: int64"
            ]
          },
          "metadata": {},
          "execution_count": 41
        }
      ]
    },
    {
      "cell_type": "code",
      "source": [
        "# Exploring the difference column with describe\n",
        "findings_df['Difference'].describe()"
      ],
      "metadata": {
        "colab": {
          "base_uri": "https://localhost:8080/"
        },
        "id": "fih9Y4uQBAHu",
        "outputId": "52c3dd25-a4e2-4c5e-b673-df33198ecd39"
      },
      "execution_count": 42,
      "outputs": [
        {
          "output_type": "execute_result",
          "data": {
            "text/plain": [
              "count    2131.000000\n",
              "mean      -28.140648\n",
              "std      1057.316734\n",
              "min     -3882.772310\n",
              "25%      -550.452083\n",
              "50%       -59.785566\n",
              "75%       429.660477\n",
              "max      5609.102672\n",
              "Name: Difference, dtype: float64"
            ]
          },
          "metadata": {},
          "execution_count": 42
        }
      ]
    },
    {
      "cell_type": "code",
      "source": [
        "# exploring the absolute difference column with describe\n",
        "findings_df['Absolute_Difference'].describe()"
      ],
      "metadata": {
        "colab": {
          "base_uri": "https://localhost:8080/"
        },
        "id": "t0AADK4BZTLr",
        "outputId": "286f8d68-21bc-4eea-e080-11ced183ab19"
      },
      "execution_count": 43,
      "outputs": [
        {
          "output_type": "execute_result",
          "data": {
            "text/plain": [
              "count    2131.000000\n",
              "mean      738.317310\n",
              "std       757.193880\n",
              "min         0.295911\n",
              "25%       179.421351\n",
              "50%       493.702449\n",
              "75%      1032.282254\n",
              "max      5609.102672\n",
              "Name: Absolute_Difference, dtype: float64"
            ]
          },
          "metadata": {},
          "execution_count": 43
        }
      ]
    },
    {
      "cell_type": "code",
      "source": [
        "# Creating a histogram to better understand the Decision Tree Model Performance\n",
        "findings_df['Difference'].hist(bins=100);\n",
        "# Creating x label and y label\n",
        "plt.xlabel('Difference between Predictions and Actual results')\n",
        "plt.ylabel('Count')\n",
        "\n",
        "# Creating title for the histogram\n",
        "plt.title('Number of Predictions by Difference')"
      ],
      "metadata": {
        "colab": {
          "base_uri": "https://localhost:8080/",
          "height": 0
        },
        "id": "zWPgFSqyWz83",
        "outputId": "d07dd9be-1322-43cb-fbe0-4944700e41bb"
      },
      "execution_count": 44,
      "outputs": [
        {
          "output_type": "execute_result",
          "data": {
            "text/plain": [
              "Text(0.5, 1.0, 'Number of Predictions by Difference')"
            ]
          },
          "metadata": {},
          "execution_count": 44
        },
        {
          "output_type": "display_data",
          "data": {
            "text/plain": [
              "<Figure size 432x288 with 1 Axes>"
            ],
            "image/png": "[encoded data removed]"
          },
          "metadata": {
            "needs_background": "light"
          }
        }
      ]
    },
    {
      "cell_type": "markdown",
      "source": [
        ">I do not recommend using the Decision Tree Model for predicting the Item_Outlet_Sales for these reasons:\n",
        "\n",
        "\n",
        "\n",
        "*   The MSE is 738.31. This shows that the models average error is 738.31 dollars per item prediction. The average value of Item_Outlet_Sales is 2181.29 dollars, so the error represents approximately 33% of the total sales.\n",
        "\n",
        "*   The model can predict the Item_Outlet_Sales target within 100 dollars 14.36% of the time.\n",
        "*   The model had 555 predictions that were over 1000 dollars off of the actual value. That represents approximately 26% of the predictions.\n",
        "\n",
        "\n",
        "*   49% of the values had predictions over 500 dollars from the actual value.\n",
        "\n",
        ">The model did have some positive characteristics. \n",
        "\n",
        "\n",
        "\n",
        "*   When comparing all of the predictions the mean was -28. Suggesting that the model over predicts and under predicts values at aproximately the same rate. In my mind it is better to under promise and over deliver. In this case the model under predicts meaning that it could generate more item sales that it would forcast, when viewed on a macro level.\n",
        "\n",
        "\n",
        "\n",
        "\n",
        "As I continue my journey in Data Science I may be able to conintue to tune or improve this model.\n",
        "\n"
      ],
      "metadata": {
        "id": "jJnYeGTIZziJ"
      }
    },
    {
      "cell_type": "markdown",
      "source": [
        ">"
      ],
      "metadata": {
        "id": "DQiw3CVdYuQC"
      }
    }
  ]
}